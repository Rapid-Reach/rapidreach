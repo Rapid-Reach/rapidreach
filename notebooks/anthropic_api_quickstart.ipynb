{
  "cells": [
    {
      "cell_type": "markdown",
      "metadata": {
        "id": "i_ZcF24WBGNh"
      },
      "source": [
        "# Anthropic API Quickstart\n",
        "\n",
        "Make a copy of this notebook to start testing Claude through the API using the [Anthropic Python SDK](https://github.com/anthropics/anthropic-sdk-python).\n"
      ]
    },
    {
      "cell_type": "markdown",
      "metadata": {
        "id": "KiGuPJu6nQ2m"
      },
      "source": [
        "Run the cell below by clicking on the ▶ play button on the left of the cell."
      ]
    },
    {
      "cell_type": "code",
      "execution_count": 1,
      "metadata": {
        "id": "lKmLRu9p_6f6"
      },
      "outputs": [
        {
          "name": "stdout",
          "output_type": "stream",
          "text": [
            "Collecting anthropic\n",
            "  Downloading anthropic-0.20.0-py3-none-any.whl.metadata (16 kB)\n",
            "Collecting anyio<5,>=3.5.0 (from anthropic)\n",
            "  Using cached anyio-4.3.0-py3-none-any.whl.metadata (4.6 kB)\n",
            "Collecting distro<2,>=1.7.0 (from anthropic)\n",
            "  Downloading distro-1.9.0-py3-none-any.whl.metadata (6.8 kB)\n",
            "Collecting httpx<1,>=0.23.0 (from anthropic)\n",
            "  Using cached httpx-0.27.0-py3-none-any.whl.metadata (7.2 kB)\n",
            "Collecting pydantic<3,>=1.9.0 (from anthropic)\n",
            "  Downloading pydantic-2.6.4-py3-none-any.whl.metadata (85 kB)\n",
            "     ---------------------------------------- 0.0/85.1 kB ? eta -:--:--\n",
            "     ---- ----------------------------------- 10.2/85.1 kB ? eta -:--:--\n",
            "     ---- ----------------------------------- 10.2/85.1 kB ? eta -:--:--\n",
            "     ------------------ ------------------- 41.0/85.1 kB 393.8 kB/s eta 0:00:01\n",
            "     ------------------------------------ - 81.9/85.1 kB 573.4 kB/s eta 0:00:01\n",
            "     -------------------------------------- 85.1/85.1 kB 530.8 kB/s eta 0:00:00\n",
            "Collecting sniffio (from anthropic)\n",
            "  Using cached sniffio-1.3.1-py3-none-any.whl.metadata (3.9 kB)\n",
            "Collecting tokenizers>=0.13.0 (from anthropic)\n",
            "  Using cached tokenizers-0.15.2-cp312-none-win_amd64.whl.metadata (6.8 kB)\n",
            "Requirement already satisfied: typing-extensions<5,>=4.7 in c:\\projects\\rapidreach\\.conda\\lib\\site-packages (from anthropic) (4.10.0)\n",
            "Collecting idna>=2.8 (from anyio<5,>=3.5.0->anthropic)\n",
            "  Using cached idna-3.6-py3-none-any.whl.metadata (9.9 kB)\n",
            "Collecting certifi (from httpx<1,>=0.23.0->anthropic)\n",
            "  Using cached certifi-2024.2.2-py3-none-any.whl.metadata (2.2 kB)\n",
            "Collecting httpcore==1.* (from httpx<1,>=0.23.0->anthropic)\n",
            "  Using cached httpcore-1.0.4-py3-none-any.whl.metadata (20 kB)\n",
            "Collecting h11<0.15,>=0.13 (from httpcore==1.*->httpx<1,>=0.23.0->anthropic)\n",
            "  Using cached h11-0.14.0-py3-none-any.whl.metadata (8.2 kB)\n",
            "Collecting annotated-types>=0.4.0 (from pydantic<3,>=1.9.0->anthropic)\n",
            "  Using cached annotated_types-0.6.0-py3-none-any.whl.metadata (12 kB)\n",
            "Collecting pydantic-core==2.16.3 (from pydantic<3,>=1.9.0->anthropic)\n",
            "  Using cached pydantic_core-2.16.3-cp312-none-win_amd64.whl.metadata (6.6 kB)\n",
            "Collecting huggingface_hub<1.0,>=0.16.4 (from tokenizers>=0.13.0->anthropic)\n",
            "  Downloading huggingface_hub-0.21.4-py3-none-any.whl.metadata (13 kB)\n",
            "Collecting filelock (from huggingface_hub<1.0,>=0.16.4->tokenizers>=0.13.0->anthropic)\n",
            "  Using cached filelock-3.13.1-py3-none-any.whl.metadata (2.8 kB)\n",
            "Collecting fsspec>=2023.5.0 (from huggingface_hub<1.0,>=0.16.4->tokenizers>=0.13.0->anthropic)\n",
            "  Downloading fsspec-2024.3.0-py3-none-any.whl.metadata (6.8 kB)\n",
            "Collecting requests (from huggingface_hub<1.0,>=0.16.4->tokenizers>=0.13.0->anthropic)\n",
            "  Using cached requests-2.31.0-py3-none-any.whl.metadata (4.6 kB)\n",
            "Collecting tqdm>=4.42.1 (from huggingface_hub<1.0,>=0.16.4->tokenizers>=0.13.0->anthropic)\n",
            "  Using cached tqdm-4.66.2-py3-none-any.whl.metadata (57 kB)\n",
            "Collecting pyyaml>=5.1 (from huggingface_hub<1.0,>=0.16.4->tokenizers>=0.13.0->anthropic)\n",
            "  Using cached PyYAML-6.0.1-cp312-cp312-win_amd64.whl.metadata (2.1 kB)\n",
            "Requirement already satisfied: packaging>=20.9 in c:\\projects\\rapidreach\\.conda\\lib\\site-packages (from huggingface_hub<1.0,>=0.16.4->tokenizers>=0.13.0->anthropic) (24.0)\n",
            "Requirement already satisfied: colorama in c:\\projects\\rapidreach\\.conda\\lib\\site-packages (from tqdm>=4.42.1->huggingface_hub<1.0,>=0.16.4->tokenizers>=0.13.0->anthropic) (0.4.6)\n",
            "Collecting charset-normalizer<4,>=2 (from requests->huggingface_hub<1.0,>=0.16.4->tokenizers>=0.13.0->anthropic)\n",
            "  Using cached charset_normalizer-3.3.2-cp312-cp312-win_amd64.whl.metadata (34 kB)\n",
            "Collecting urllib3<3,>=1.21.1 (from requests->huggingface_hub<1.0,>=0.16.4->tokenizers>=0.13.0->anthropic)\n",
            "  Using cached urllib3-2.2.1-py3-none-any.whl.metadata (6.4 kB)\n",
            "Downloading anthropic-0.20.0-py3-none-any.whl (850 kB)\n",
            "   ---------------------------------------- 0.0/850.5 kB ? eta -:--:--\n",
            "   -- ------------------------------------- 61.4/850.5 kB 1.1 MB/s eta 0:00:01\n",
            "   ----- ---------------------------------- 122.9/850.5 kB 1.2 MB/s eta 0:00:01\n",
            "   --------- ------------------------------ 194.6/850.5 kB 1.2 MB/s eta 0:00:01\n",
            "   ---------- ----------------------------- 225.3/850.5 kB 1.1 MB/s eta 0:00:01\n",
            "   ------------- -------------------------- 276.5/850.5 kB 1.1 MB/s eta 0:00:01\n",
            "   ------------- -------------------------- 286.7/850.5 kB 1.0 MB/s eta 0:00:01\n",
            "   -------------- ----------------------- 327.7/850.5 kB 967.8 kB/s eta 0:00:01\n",
            "   --------------- ---------------------- 337.9/850.5 kB 912.8 kB/s eta 0:00:01\n",
            "   ---------------- --------------------- 368.6/850.5 kB 820.1 kB/s eta 0:00:01\n",
            "   ----------------- -------------------- 389.1/850.5 kB 807.8 kB/s eta 0:00:01\n",
            "   ------------------ ------------------- 419.8/850.5 kB 795.3 kB/s eta 0:00:01\n",
            "   -------------------- ----------------- 450.6/850.5 kB 783.5 kB/s eta 0:00:01\n",
            "   --------------------- ---------------- 471.0/850.5 kB 775.8 kB/s eta 0:00:01\n",
            "   ---------------------- --------------- 501.8/850.5 kB 749.3 kB/s eta 0:00:01\n",
            "   ------------------------ ------------- 542.7/850.5 kB 757.4 kB/s eta 0:00:01\n",
            "   ------------------------- ------------ 573.4/850.5 kB 767.3 kB/s eta 0:00:01\n",
            "   --------------------------- ---------- 624.6/850.5 kB 770.9 kB/s eta 0:00:01\n",
            "   ----------------------------- -------- 665.6/850.5 kB 776.5 kB/s eta 0:00:01\n",
            "   -------------------------------- ----- 716.8/850.5 kB 793.9 kB/s eta 0:00:01\n",
            "   ----------------------------------- -- 788.5/850.5 kB 830.6 kB/s eta 0:00:01\n",
            "   -------------------------------------  849.9/850.5 kB 853.3 kB/s eta 0:00:01\n",
            "   -------------------------------------- 850.5/850.5 kB 840.2 kB/s eta 0:00:00\n",
            "Using cached anyio-4.3.0-py3-none-any.whl (85 kB)\n",
            "Downloading distro-1.9.0-py3-none-any.whl (20 kB)\n",
            "Using cached httpx-0.27.0-py3-none-any.whl (75 kB)\n",
            "Using cached httpcore-1.0.4-py3-none-any.whl (77 kB)\n",
            "Downloading pydantic-2.6.4-py3-none-any.whl (394 kB)\n",
            "   ---------------------------------------- 0.0/394.9 kB ? eta -:--:--\n",
            "   ------ --------------------------------- 61.4/394.9 kB 1.7 MB/s eta 0:00:01\n",
            "   -------------- ------------------------- 143.4/394.9 kB 1.7 MB/s eta 0:00:01\n",
            "   -------------------- ------------------- 204.8/394.9 kB 1.6 MB/s eta 0:00:01\n",
            "   ---------------------------- ----------- 276.5/394.9 kB 1.7 MB/s eta 0:00:01\n",
            "   ---------------------------------- ----- 337.9/394.9 kB 1.5 MB/s eta 0:00:01\n",
            "   ---------------------------------------  389.1/394.9 kB 1.4 MB/s eta 0:00:01\n",
            "   ---------------------------------------- 394.9/394.9 kB 1.4 MB/s eta 0:00:00\n",
            "Using cached pydantic_core-2.16.3-cp312-none-win_amd64.whl (1.9 MB)\n",
            "Using cached sniffio-1.3.1-py3-none-any.whl (10 kB)\n",
            "Using cached tokenizers-0.15.2-cp312-none-win_amd64.whl (2.2 MB)\n",
            "Using cached annotated_types-0.6.0-py3-none-any.whl (12 kB)\n",
            "Downloading huggingface_hub-0.21.4-py3-none-any.whl (346 kB)\n",
            "   ---------------------------------------- 0.0/346.4 kB ? eta -:--:--\n",
            "   ---- ---------------------------------- 41.0/346.4 kB 991.0 kB/s eta 0:00:01\n",
            "   ---------- ----------------------------- 92.2/346.4 kB 1.1 MB/s eta 0:00:01\n",
            "   -------------- ------------------------- 122.9/346.4 kB 1.0 MB/s eta 0:00:01\n",
            "   ----------------- ---------------------- 153.6/346.4 kB 1.0 MB/s eta 0:00:01\n",
            "   --------------------- ---------------- 194.6/346.4 kB 908.0 kB/s eta 0:00:01\n",
            "   ---------------------- --------------- 204.8/346.4 kB 827.9 kB/s eta 0:00:01\n",
            "   ------------------------- ------------ 235.5/346.4 kB 801.7 kB/s eta 0:00:01\n",
            "   ------------------------------ ------- 276.5/346.4 kB 811.7 kB/s eta 0:00:01\n",
            "   ------------------------------- ------ 286.7/346.4 kB 737.3 kB/s eta 0:00:01\n",
            "   ---------------------------------- --- 317.4/346.4 kB 678.1 kB/s eta 0:00:01\n",
            "   -------------------------------------  337.9/346.4 kB 675.6 kB/s eta 0:00:01\n",
            "   -------------------------------------- 346.4/346.4 kB 672.4 kB/s eta 0:00:00\n",
            "Using cached idna-3.6-py3-none-any.whl (61 kB)\n",
            "Using cached certifi-2024.2.2-py3-none-any.whl (163 kB)\n",
            "Downloading fsspec-2024.3.0-py3-none-any.whl (171 kB)\n",
            "   ---------------------------------------- 0.0/171.9 kB ? eta -:--:--\n",
            "   -- ------------------------------------- 10.2/171.9 kB ? eta -:--:--\n",
            "   ------ -------------------------------- 30.7/171.9 kB 660.6 kB/s eta 0:00:01\n",
            "   ------------- ------------------------- 61.4/171.9 kB 465.5 kB/s eta 0:00:01\n",
            "   ---------------- ---------------------- 71.7/171.9 kB 435.7 kB/s eta 0:00:01\n",
            "   ------------------------ ------------- 112.6/171.9 kB 504.4 kB/s eta 0:00:01\n",
            "   --------------------------- ---------- 122.9/171.9 kB 479.3 kB/s eta 0:00:01\n",
            "   ------------------------------------ - 163.8/171.9 kB 517.2 kB/s eta 0:00:01\n",
            "   -------------------------------------- 171.9/171.9 kB 516.5 kB/s eta 0:00:00\n",
            "Using cached h11-0.14.0-py3-none-any.whl (58 kB)\n",
            "Using cached PyYAML-6.0.1-cp312-cp312-win_amd64.whl (138 kB)\n",
            "Using cached tqdm-4.66.2-py3-none-any.whl (78 kB)\n",
            "Using cached filelock-3.13.1-py3-none-any.whl (11 kB)\n",
            "Using cached requests-2.31.0-py3-none-any.whl (62 kB)\n",
            "Using cached charset_normalizer-3.3.2-cp312-cp312-win_amd64.whl (100 kB)\n",
            "Using cached urllib3-2.2.1-py3-none-any.whl (121 kB)\n",
            "Installing collected packages: urllib3, tqdm, sniffio, pyyaml, pydantic-core, idna, h11, fsspec, filelock, distro, charset-normalizer, certifi, annotated-types, requests, pydantic, httpcore, anyio, huggingface_hub, httpx, tokenizers, anthropic\n",
            "Successfully installed annotated-types-0.6.0 anthropic-0.20.0 anyio-4.3.0 certifi-2024.2.2 charset-normalizer-3.3.2 distro-1.9.0 filelock-3.13.1 fsspec-2024.3.0 h11-0.14.0 httpcore-1.0.4 httpx-0.27.0 huggingface_hub-0.21.4 idna-3.6 pydantic-2.6.4 pydantic-core-2.16.3 pyyaml-6.0.1 requests-2.31.0 sniffio-1.3.1 tokenizers-0.15.2 tqdm-4.66.2 urllib3-2.2.1\n",
            "Note: you may need to restart the kernel to use updated packages.\n"
          ]
        },
        {
          "name": "stderr",
          "output_type": "stream",
          "text": [
            "  WARNING: The script tqdm.exe is installed in 'c:\\projects\\rapidreach\\.conda\\Scripts' which is not on PATH.\n",
            "  Consider adding this directory to PATH or, if you prefer to suppress this warning, use --no-warn-script-location.\n",
            "  WARNING: The script distro.exe is installed in 'c:\\projects\\rapidreach\\.conda\\Scripts' which is not on PATH.\n",
            "  Consider adding this directory to PATH or, if you prefer to suppress this warning, use --no-warn-script-location.\n",
            "  WARNING: The script normalizer.exe is installed in 'c:\\projects\\rapidreach\\.conda\\Scripts' which is not on PATH.\n",
            "  Consider adding this directory to PATH or, if you prefer to suppress this warning, use --no-warn-script-location.\n",
            "  WARNING: The script huggingface-cli.exe is installed in 'c:\\projects\\rapidreach\\.conda\\Scripts' which is not on PATH.\n",
            "  Consider adding this directory to PATH or, if you prefer to suppress this warning, use --no-warn-script-location.\n",
            "  WARNING: The script httpx.exe is installed in 'c:\\projects\\rapidreach\\.conda\\Scripts' which is not on PATH.\n",
            "  Consider adding this directory to PATH or, if you prefer to suppress this warning, use --no-warn-script-location.\n"
          ]
        }
      ],
      "source": [
        "%pip install anthropic"
      ]
    },
    {
      "cell_type": "markdown",
      "metadata": {
        "id": "Go5lIfr8zyPp"
      },
      "source": [
        "Enter your API key in the `api_key` variable field in the cell below. You can then edit the `Hi Claude.` user prompt or the `Respond in pirate speak.` system prompt to content of your own. If you do not want a system prompt, simply delete that whole parameter.\n",
        "\n",
        "Then click on the ▶ play button on the left of the cell to run the prompt.Claude's response will appear below the cell."
      ]
    },
    {
      "cell_type": "code",
      "execution_count": 4,
      "metadata": {
        "id": "dds-bswdAish"
      },
      "outputs": [
        {
          "name": "stdout",
          "output_type": "stream",
          "text": [
            "[ContentBlock(text='Ahoy there, me hearty! What brings ye to these waters on this fine day?', type='text')]\n"
          ]
        }
      ],
      "source": [
        "import anthropic\n",
        "\n",
        "client = anthropic.Anthropic(\n",
        "    api_key=INSERT_API_KEY,\n",
        ")\n",
        "message = client.messages.create(\n",
        "    model=\"claude-3-opus-20240229\",\n",
        "    max_tokens=1000,\n",
        "    temperature=0,\n",
        "    system=\"Respond only in pirate speak.\",\n",
        "    messages=[\n",
        "        {\"role\": \"user\", \"content\": \"Hi Claude.\"}\n",
        "    ]\n",
        ")\n",
        "print(message.content)"
      ]
    }
  ],
  "metadata": {
    "colab": {
      "provenance": []
    },
    "kernelspec": {
      "display_name": "Python 3",
      "name": "python3"
    },
    "language_info": {
      "codemirror_mode": {
        "name": "ipython",
        "version": 3
      },
      "file_extension": ".py",
      "mimetype": "text/x-python",
      "name": "python",
      "nbconvert_exporter": "python",
      "pygments_lexer": "ipython3",
      "version": "3.12.1"
    }
  },
  "nbformat": 4,
  "nbformat_minor": 0
}
